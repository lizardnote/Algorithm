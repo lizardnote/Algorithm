{
 "cells": [
  {
   "cell_type": "markdown",
   "id": "5d35e61e",
   "metadata": {},
   "source": [
    "## CH4. 구현\n",
    "#### 머릿속에 있는 알고리즘을 정확하고 빠르게 프로그램으로 작성하기\n",
    "\n"
   ]
  },
  {
   "cell_type": "markdown",
   "id": "9c1eca46",
   "metadata": {},
   "source": [
    "### Ch.4-1 아이디어를 코드로 바꾸는 구현\n",
    "\n",
    "구현 : 알고리즘을 소스코드로 바꾸는 과정\n",
    "\n",
    "**구현 시 고려해야 할 메모리 제약 사항**\n",
    "- 변수의 표현 범위<br>\n",
    "   : 파이썬에서는 직접 자료형을 지정할 필요가 없으며 큰 수 연산도 기본으로 지원한다. 단 유효숫자에 따라 연산 결과가 달라질 수 있다.\n",
    "   \n",
    "- 파이썬에서 리스트 크기 제약<br>\n",
    "   : 리스트를 여러 개 선언하고, 그 중 크기가 1000만 이상인 리스트가 있다면 용량 제한으로 문제를 풀 수 없게 되는 경우도 있다.\n",
    "    \n",
    "- 채점환경<br>\n",
    "   : 시간 제한이 1초이고 데이터 개수가 100만 개인 문제가 있다면 일반적으로 시간 복잡도 $O(NlogN)$ 이내의 알고리즘을 이용해야 한다.\n",
    "    \n",
    "- 구현 문제 접근 방법\n",
    "   "
   ]
  },
  {
   "cell_type": "markdown",
   "id": "43943e6b",
   "metadata": {},
   "source": [
    "**예제 4-1 상하좌우** <br>\n",
    " NxN 공간에서 상하좌우 방향으로 이동할 수 있다. 최종적으로 A가 도착할 지점의 좌표를 출력하는 프로그램을 작성하시오.<br>\n",
    " - 첫 줄은 공간의 크기를 나타내는 N을 받는다\n",
    " - 둘째 줄은 여행가 a가 이동할 계획서 내용이 주어진다.\n",
    " - a가 최종적으로 도착할 지점의 좌표를 공백으로 구분해 출력한다"
   ]
  },
  {
   "cell_type": "code",
   "execution_count": 3,
   "id": "6129561d",
   "metadata": {},
   "outputs": [
    {
     "name": "stdout",
     "output_type": "stream",
     "text": [
      "5\n",
      "R R R U D D\n",
      "3 4\n"
     ]
    }
   ],
   "source": [
    "#4-1예시\n",
    "n = int(input())\n",
    "x, y = 1,1\n",
    "plans = input().split()\n",
    "\n",
    "dx = [0,0,-1,1] #업다운으로 이동 -> 행이동\n",
    "dy = [-1,1,0,0] #좌우 이동 -> 열이동\n",
    "move_types = ['L','R','U','D']\n",
    "\n",
    "for plan in plans:    #입력받은 수행계획\n",
    "    for i in range(len(move_types)): #move_types 길이만큼 반복\n",
    "        if plan == move_types[i]:    #plan에 들어간 수행계획 알파벳이 move_types에 있는 알파벳과 일치하면\n",
    "            nx = x + dx[i]           #좌표 변경\n",
    "            ny = y + dy[i]\n",
    "    if nx < 1 or ny <1 or nx > n or ny > n :  #범위를 벗어나면 continue\n",
    "        continue\n",
    "        \n",
    "    x, y = nx, ny\n",
    "\n",
    "print(x,y)"
   ]
  },
  {
   "cell_type": "markdown",
   "id": "ac5a44b1",
   "metadata": {},
   "source": [
    "**예제 4-2  시각**<br>\n",
    "정수 N이 입력되면 00시00분00초부터 N시 59분 59초까지 모든 시각 중에서 3이 하나라도 포함된 경우의 수를 구하는 프로그램 작성"
   ]
  },
  {
   "cell_type": "code",
   "execution_count": 4,
   "id": "7131ce87",
   "metadata": {},
   "outputs": [
    {
     "name": "stdout",
     "output_type": "stream",
     "text": [
      "5\n",
      "11475\n"
     ]
    }
   ],
   "source": [
    "# 4-2 답안 예시\n",
    "h = int(input())\n",
    "\n",
    "count = 0 \n",
    "for i in range(h+1):\n",
    "    for j in range(60):\n",
    "        for k in range(60):\n",
    "            if '3' in str(i)+str(j)+str(k):\n",
    "                count += 1\n",
    "                \n",
    "print(count)\n"
   ]
  },
  {
   "cell_type": "markdown",
   "id": "276bd8af",
   "metadata": {},
   "source": [
    "### Ch.4-2 왕실의 나이트\n",
    "\n",
    "8x8의 체스판 위에서 말이 2가지 경우로 이동한다<br>\n",
    "1. 수평으로 두 칸 이동, 수직으로 한 칸 이동\n",
    "2. 수직으로 두 칸 이동, 수평으로 한 칸 이동\n",
    "\n",
    "나이트의 위치가 주어졌을 때 나이트가 이동할 수 있는 경우의 수를 출력하는 프로그램을 작성하시오<br>\n",
    "행 위치는 1부터 8, 열 위치는 a에서 h로 표현한다."
   ]
  },
  {
   "cell_type": "code",
   "execution_count": 6,
   "id": "c92446fd",
   "metadata": {},
   "outputs": [
    {
     "name": "stdout",
     "output_type": "stream",
     "text": [
      "c2\n",
      "2 3\n"
     ]
    }
   ],
   "source": [
    "# 4-3 답변 예시\n",
    "\n",
    "input_data = input()\n",
    "row = int(input_data[1])\n",
    "column = int(ord(input_data[0])) - int(ord('a')) + 1\n",
    "\n",
    "#ord()함수는 알파벳을 숫자로 변환해준다(아스키코드) e.g) ord('c') -> 99 이므로 99-97(ord('a'))+1 = 3 \n",
    "# 따라서 c의 좌표가 -> 3으로 변환된다!\n",
    "\n",
    "steps = [(-2,-1),(-1,-2),(1,-2),(2,-1),(2,1),(1,2),(-1,2),(-2,1)] #나이트의 이동방향 정의\n",
    "\n",
    "result = 0\n",
    "\n",
    "for step in steps:  #8가지 방향 모두 확인\n",
    "    next_row = row + step[0]  \n",
    "    next_column = column + step [1]   # 각 좌표를 구한 뒤\n",
    "    \n",
    "    #if 조건으로 벗어나지 않는지 확인 후 결과값 증가\n",
    "    if next_row >= 1 and next_row <= 8 and next_column >= 1 and next_column <= 8:\n",
    "    result += 1\n",
    "\n",
    "    print(result)"
   ]
  },
  {
   "cell_type": "markdown",
   "id": "1d328319",
   "metadata": {},
   "source": [
    "**좌표값 리스트 만들기**와 **알파벳을 숫자 좌표로 변경하는 방법 ord()함수** 기억해주기"
   ]
  },
  {
   "cell_type": "markdown",
   "id": "8326be28",
   "metadata": {},
   "source": [
    "### Ch 4-3. 게임 개발\n",
    "NxM 크기의 맵이 각각 육지, 바다 칸으로 이루어져 있다. 캐릭터는 동서남북 중 한 곳을 바라본다 <br>\n",
    "각 칸은 (A,B)로 나타내며 A:북으로부터 떨어진 칸의 개수, B: 서쪽으로부터 떨어진 칸의 개수이다.<br>\n",
    "상하좌우로 움직일 수 있으며 바다 칸은 갈 수 없다.\n",
    "\n",
    "**게임의 메뉴얼**\n",
    "1. 현재 위치에서 현재 방향 기준으로 왼쪽부터차례대로 갈 곳을 정한다.(90도 반시계 회전한 방향)\n",
    "2. 왼쪽 방향에 가지 않은 칸이 존재할 경우, 왼쪽으로 회전한 다음 왼쪽으로 1칸 전진<br>\n",
    "   칸이 없다면 왼쪽 방향으로 회전만 수행하고 1단계로 돌아간다.\n",
    "3. 네 방향 모두 이미 가본 칸이거나 바다라면 바라보는 방향을 유지한 뒤 1칸 뒤로, 1단계로 돌아간다.<br>\n",
    "   (뒤도 바다라면 움직임을 멈춘다.)"
   ]
  },
  {
   "cell_type": "code",
   "execution_count": 9,
   "id": "03acff4d",
   "metadata": {},
   "outputs": [
    {
     "name": "stdout",
     "output_type": "stream",
     "text": [
      "4 4\n",
      "1 1 0\n",
      "1 1 1 1\n",
      "1 0 0 1\n",
      " 1 1 0 1\n",
      "1 1 1 1\n",
      "3\n"
     ]
    }
   ],
   "source": [
    "#4-4 답안 예시\n",
    "\n",
    "#n,m 공백으로 구분해 입력받기\n",
    "n,m = map(int,input().split())\n",
    "\n",
    "#방문한 위치를 저장하기 위한 맵을 생성해 0으로 초기화 -> 2차원 리스트 초기화는 리스트 컴프리헨션 문법을 이용한다.\n",
    "d = [[0] * m for _ in range(n)]\n",
    "\n",
    "#캐릭터의 x,y좌표, 방향을 입력받기\n",
    "x,y,direction = map(int,input().split())\n",
    "d[x][y] = 1 #현재 좌표 방문처리\n",
    "\n",
    "#전체 맵 정보를 입력받기\n",
    "array = []\n",
    "for i in range(n):\n",
    "    array.append(list(map(int,input().split())))\n",
    "\n",
    "#북동서남 방향 정의    \n",
    "dx = [-1, 0, 1, 0]\n",
    "dy = [0, -1, 0, 1]\n",
    "\n",
    "#왼쪽으로 회전\n",
    "def turn_left():\n",
    "    global direction  # 전역변수인 direction 사용\n",
    "    direction -= 1 # -1로 초기화 우리는 0에서 시작해서 0 -> 3-> 2-> 1 순으로 돌아야하니까\n",
    "    if direction == -1: # -1이 되면\n",
    "        direction = 3   # 3인 서쪽을 향하게 한다. 따라서 북(0)에서 시작하는데 -1 이 되서 3으로 초기화되므로 서(3)을 향하게 됨\n",
    "        \n",
    "#시뮬레이션 시작        \n",
    "count = 1\n",
    "turn_time = 0\n",
    "\n",
    "while True:\n",
    "    # 왼쪽으로 돌게한다. 좌표가 변경되면\n",
    "    turn_left()\n",
    "    nx = x + dx[direction]\n",
    "    ny = y + dy[direction]\n",
    "    \n",
    "    # 회전한 이후 정면에 가보지 않은 칸이 존재하는 경우 이동\n",
    "    if d[nx][ny] == 0 and array[nx][ny] == 0:  #0칸이라면 이동한 뒤 1로 변경해주고 좌표로 이동한다\n",
    "        d[nx][ny] = 1\n",
    "        x = nx\n",
    "        y = ny\n",
    "        count += 1\n",
    "        turn_time = 0\n",
    "        continue\n",
    "    \n",
    "    #회전한 이후 정면에 가보지 않은 칸이 없거나 바다인 경우 -> 방향만 바꾼다\n",
    "    else:\n",
    "        turn_time += 1\n",
    "    \n",
    "    #네 방향 모두 갈 수 없다면 -> 뒤로 이동\n",
    "    if turn_time == 4:\n",
    "        nx = x - dx[direction]\n",
    "        ny = y - dy[direction]\n",
    "        #만약 뒤로 갈 수 있으면 이동\n",
    "        if array[nx][ny] == 0:\n",
    "            x = nx\n",
    "            y = ny\n",
    "        #뒤가 바다로 막혀있다면     \n",
    "        else:\n",
    "            break\n",
    "        turn_time = 0\n",
    "        \n",
    "print(count)"
   ]
  },
  {
   "cell_type": "code",
   "execution_count": null,
   "id": "a995e7c2",
   "metadata": {},
   "outputs": [],
   "source": []
  }
 ],
 "metadata": {
  "kernelspec": {
   "display_name": "Python 3 (ipykernel)",
   "language": "python",
   "name": "python3"
  },
  "language_info": {
   "codemirror_mode": {
    "name": "ipython",
    "version": 3
   },
   "file_extension": ".py",
   "mimetype": "text/x-python",
   "name": "python",
   "nbconvert_exporter": "python",
   "pygments_lexer": "ipython3",
   "version": "3.9.7"
  }
 },
 "nbformat": 4,
 "nbformat_minor": 5
}
