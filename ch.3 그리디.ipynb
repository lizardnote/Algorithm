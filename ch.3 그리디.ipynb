{
 "cells": [
  {
   "cell_type": "markdown",
   "id": "440b884d",
   "metadata": {},
   "source": [
    "# CH3. 그리디\n",
    "### Ch 3.1 당장 좋은 것만 선택하는 알고리즘\n",
    "\n",
    "- 단순히 현재 상황에서 가장 좋아 보이는 것만을 선택해도 문제를 풀 수 있는지를 파악할 수 있어야 한다.\n",
    "- '가장 큰 순서대로', '가장 작은 순서대로' 같이 기준을 제시한다\n",
    "- 주로 정렬 알고리즘과 짝을 이뤄 출제된다.\n"
   ]
  },
  {
   "cell_type": "markdown",
   "id": "5377a1cd",
   "metadata": {},
   "source": [
    "#### 예제 3-1 거스름돈\n",
    "\n",
    "거스름돈으로 500, 100, 50, 10이 존재한다. 거슬러 줘야 할 최소한의 동전 개수를 구하라."
   ]
  },
  {
   "cell_type": "code",
   "execution_count": 1,
   "id": "3839b3fb",
   "metadata": {},
   "outputs": [
    {
     "name": "stdout",
     "output_type": "stream",
     "text": [
      "6\n"
     ]
    }
   ],
   "source": [
    "n = 1260 #거스름돈\n",
    "count = 0\n",
    "\n",
    "coin_types = [500,100,50,10]\n",
    "\n",
    "for i in coin_types:\n",
    "    count += n//i\n",
    "    n = n%i\n",
    "    \n",
    "print(count)"
   ]
  },
  {
   "cell_type": "markdown",
   "id": "93cf3e74",
   "metadata": {},
   "source": [
    "이 알고리즘의 시간복잡도는 $O(K)$이다.\n",
    "동전의 총 종류에만 영향을 받고 거슬러 줘야 하는 금액과는 무관하다 <br>\n",
    "\n",
    "- 단 500,400,100인 경우, 800원 -> 500,100 3개 vs 400 2개 로 두번째가 더 효율적임 <br>\n",
    "   큰 단위가 작은 단위의 배수 형태이기 때문\n"
   ]
  },
  {
   "cell_type": "markdown",
   "id": "92ae04ab",
   "metadata": {},
   "source": [
    "따라서 문제 유형을 파악하기 어렵다면,\n",
    "1. 그리디 알고리즘 의심\n",
    "2. 탐욕적 해결법이 존재하는지 고민\n",
    "3. 그 이후에 다이나믹 프로그래밍/ 그래프 알고리즘 등으로 고민해보자"
   ]
  },
  {
   "cell_type": "markdown",
   "id": "bd8b69b0",
   "metadata": {},
   "source": [
    "### Ch. 3-2 큰 수의 법칙\n",
    "\n",
    "- 다양한 수로 이루어진 배열이 있을 때 주어진 수들을 M번 더하여 가장 큰 수를 만드는 법칙이다.\n",
    "- 배열의 특정 인덱스에 해당하는 수가 연속으로 K번 초과하여 더해질 수 없는 것이 이 법칙의 특징이다"
   ]
  },
  {
   "cell_type": "markdown",
   "id": "ae3d553a",
   "metadata": {},
   "source": [
    "**예제 1** <br>\n",
    "N개의 자연수, M번 더해서, 연속 K번을 초과할 수 없고 최댓값을 만든다"
   ]
  },
  {
   "cell_type": "code",
   "execution_count": 3,
   "id": "12a4fe09",
   "metadata": {},
   "outputs": [
    {
     "name": "stdout",
     "output_type": "stream",
     "text": [
      "5 8 3\n",
      " 2 4 5 4 6\n",
      "46\n"
     ]
    }
   ],
   "source": [
    "#답안(1)\n",
    "n, m, k = map(int,input().split())  #공백으로 구분해  n m k 입력받기\n",
    "data = list(map(int,input().split())) #N개의 수를 공백으로 구분해 입력받기\n",
    "\n",
    "data.sort()       #데이터 정렬\n",
    "first = data[n-1] #마지막 수 = 가장 큰 수\n",
    "second = data[n-2] #마지막 앞의 수 = 두번째로 큰 수\n",
    "\n",
    "\n",
    "result = 0               \n",
    "\n",
    "while True:\n",
    "    for i in range(k):\n",
    "        if m == 0:\n",
    "            break\n",
    "        result += first\n",
    "        m -= 1\n",
    "    if m==0:\n",
    "        break\n",
    "    result += second\n",
    "    m-=1\n",
    "    \n",
    "print(result)"
   ]
  },
  {
   "cell_type": "code",
   "execution_count": 4,
   "id": "567bf953",
   "metadata": {},
   "outputs": [
    {
     "name": "stdout",
     "output_type": "stream",
     "text": [
      "5 8 3\n",
      "2 4 5 4 6\n",
      "46\n"
     ]
    }
   ],
   "source": [
    "#답안(2)\n",
    "\n",
    "n,m,k = map(int,input().split())\n",
    "data = list(map(int,input().split()))\n",
    "\n",
    "data.sort()\n",
    "first = data[-1]\n",
    "second = data[-2]\n",
    "\n",
    "count = int(m/(k+1)) * k  #반복 가능한 수 +1 로 나눠주면 수열이 반복되는 횟수 * K를 곱하면 큰 수가 등장하는 횟수\n",
    "count += m % (k+1)  # 만약 m이 (k+1)로 나눠떨어지지 않을 때 나머지도 마저 더해준다.\n",
    "\n",
    "result = 0\n",
    "result += (count) * first  #횟수만큼 큰 수 곱해주기\n",
    "result += (m-count) * second  #남은 횟수만큼 두번째 큰 수 곱해주기\n",
    "\n",
    "print(result)"
   ]
  },
  {
   "cell_type": "markdown",
   "id": "dfc6c02a",
   "metadata": {},
   "source": [
    "### Ch 3-3 숫자 카드 게임\n",
    "여러 개 숫자 카드 중 가장 높은 숫자가 쓰인 카드 한 장을 뽑는 게임\n",
    "- 숫자 카드들이 NxM(행,열) 형태로 놓여있다\n",
    "- 먼저 뽑고자 하는 카드가 포함된 행을 선택\n",
    "- 선택된 행에 가장 숫자가 낮은 카드를 뽑아야 한다.\n",
    "- 카드를 골라낼 행을 선택할 때, 이후에 해당 행에서 가장 숫자가 낮은 카드를 뽑을 곳을 고려해 최종적으로 가장 높은 숫자를 뽑도록 한다\n"
   ]
  },
  {
   "cell_type": "code",
   "execution_count": 6,
   "id": "419352a9",
   "metadata": {},
   "outputs": [
    {
     "name": "stdout",
     "output_type": "stream",
     "text": [
      "3 3\n",
      "3 1 2\n",
      "4 1 4\n",
      "2 2 2\n",
      "2\n"
     ]
    }
   ],
   "source": [
    "# 3-3 답안 예시\n",
    "n,m = map(int,input().split())\n",
    "\n",
    "result = 0\n",
    "for i in range(n):\n",
    "    data = list(map(int,input().split()))  #n행만큼 반복해서 행별로 데이터 입력받기\n",
    "    min_value = min(data)                  #해당 행의 min값 찾아 저장하기\n",
    "    result = max(result, min_value)        # result값과 비교해 큰 값 저장\n",
    "    \n",
    "print(result)"
   ]
  },
  {
   "cell_type": "code",
   "execution_count": 8,
   "id": "ad8a99fc",
   "metadata": {},
   "outputs": [
    {
     "name": "stdout",
     "output_type": "stream",
     "text": [
      "3 3\n",
      "3 1 2\n",
      " 4 1 4\n",
      "2 2 2\n",
      "2\n"
     ]
    }
   ],
   "source": [
    "# 3-4 답안 예시\n",
    "\n",
    "n,m = map(int,input().split())\n",
    "\n",
    "result = 0\n",
    "for i in range(n):\n",
    "    data = list(map(int,input().split()))\n",
    "    min_value = 10001 \n",
    "    for a in data:       #해당 줄에서 가장 작은 값 찾기\n",
    "        min_value = min(min_value, a)    \n",
    "    result = max(result, min_value)      #작은 값 중 큰 값 찾기\n",
    "    \n",
    "print(result)"
   ]
  },
  {
   "cell_type": "markdown",
   "id": "05a12e3c",
   "metadata": {},
   "source": [
    "### Ch 3-4.  1이 될 때까지\n",
    "\n",
    "어떠한 수 N이 1이 될때까지 다음 두 과정 중 하나를 반복적으로 선택하여 수행하려고 한다.<br>\n",
    "단, 두 번째 연산은 N이 K로 나누어떨어질 때만 선택할 수 있다.\n",
    "<br>\n",
    "1. N에서 1을 뺀다\n",
    "2. N을 K로 나눈다\n",
    "\n",
    "1이 될 때까지 수행해야 하는 최소 횟수를 구하라"
   ]
  },
  {
   "cell_type": "code",
   "execution_count": 10,
   "id": "2669cb80",
   "metadata": {},
   "outputs": [
    {
     "name": "stdout",
     "output_type": "stream",
     "text": [
      "25 5\n",
      "2\n"
     ]
    }
   ],
   "source": [
    "#3-5 답안 예시\n",
    "n, k = map(int,input().split())\n",
    "count = 0\n",
    "\n",
    "while n >= k :        #k가 n보다 작거나 같으면 나누는게 효율적\n",
    "    while n % k != 0:  #나누어떨어지 않는다면 반복\n",
    "        n -= 1          \n",
    "        count += 1\n",
    "    n//=k              #나누어떨어지면 K로 나누기\n",
    "    count += 1\n",
    "    \n",
    "while n > 1:        #n이 1보다 크고 k보다 작아진 경우\n",
    "    n -= 1          # 1을 빼는 연산 수행\n",
    "    result += 1\n",
    "    \n",
    "print(result)"
   ]
  },
  {
   "cell_type": "code",
   "execution_count": 11,
   "id": "72db36ab",
   "metadata": {},
   "outputs": [
    {
     "name": "stdout",
     "output_type": "stream",
     "text": [
      "28 5\n",
      "5\n"
     ]
    }
   ],
   "source": [
    "#3-6 답안 예시 -> N의 수가 100억 이상으로 커진 경우, 1을 일일이 빼지 않고 한 번에 빼는 방식을 고려한다\n",
    "\n",
    "n,k = map(int,input().split())\n",
    "result = 0\n",
    "\n",
    "while True:\n",
    "    target = (n // k) * k   #n을 K로 나눈 몫에 k를 곱해준 값을\n",
    "    result += (n - target)  #n에서 빼주면 나누어떨어질 때까지 빼야되는 수가 나옴(1을 빼야하는 횟수)\n",
    "    n = target              # target을 n에 대입해주면 이제 k로 나누어떨어짐\n",
    "    \n",
    "    if n < k:         #n이 k보다 작아진 경우는 탈출\n",
    "        break\n",
    "    result += 1       #아직 크거나 같은 경우는 다시 나눠서 몫을 N에 대입\n",
    "    n //= k\n",
    "    \n",
    "result += (n-1)      #마지막 값에서 1을 뺀 값만큼 1을 빼는 연산을 해준다\n",
    "print(result)"
   ]
  },
  {
   "cell_type": "code",
   "execution_count": null,
   "id": "0806583a",
   "metadata": {},
   "outputs": [],
   "source": []
  }
 ],
 "metadata": {
  "kernelspec": {
   "display_name": "Python 3 (ipykernel)",
   "language": "python",
   "name": "python3"
  },
  "language_info": {
   "codemirror_mode": {
    "name": "ipython",
    "version": 3
   },
   "file_extension": ".py",
   "mimetype": "text/x-python",
   "name": "python",
   "nbconvert_exporter": "python",
   "pygments_lexer": "ipython3",
   "version": "3.9.7"
  }
 },
 "nbformat": 4,
 "nbformat_minor": 5
}
