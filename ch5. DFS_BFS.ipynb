{
 "cells": [
  {
   "cell_type": "markdown",
   "id": "8ebb3f59",
   "metadata": {},
   "source": [
    "# 탐색 알고리즘 (DFS, BFS)"
   ]
  },
  {
   "cell_type": "markdown",
   "id": "2d97e882",
   "metadata": {},
   "source": [
    "### 자료구조 개념 정리\n",
    "#### Push(삽입), Pop(삭제) \n",
    "\n",
    "1. 스택\n",
    "2. 큐\n",
    "3. 재귀함수"
   ]
  },
  {
   "cell_type": "markdown",
   "id": "b8dce79d",
   "metadata": {},
   "source": [
    "## 1. Stack ( LIFO : last in first out )\n",
    "\n"
   ]
  },
  {
   "cell_type": "code",
   "execution_count": 5,
   "id": "7d7e81d8",
   "metadata": {},
   "outputs": [
    {
     "name": "stdout",
     "output_type": "stream",
     "text": [
      "[5, 4, 2]\n",
      "[2, 4, 5]\n"
     ]
    }
   ],
   "source": [
    "stack =[]\n",
    "stack.append(5)\n",
    "stack.append(4)\n",
    "stack.append(3)\n",
    "stack.pop()\n",
    "stack.append(2)\n",
    "stack.append(1)\n",
    "stack.pop()\n",
    "\n",
    "print(stack) # 최하단 원소부터\n",
    "print(stack[::-1]) #최상단 원소부터"
   ]
  },
  {
   "cell_type": "markdown",
   "id": "08d2180c",
   "metadata": {},
   "source": [
    "## 2. Queue( FIFO : First In First Out )\n",
    "먼저 들어온 원소부터 제거 \n",
    "\n",
    "- collections 모듈에서 제공하는 deque 자료구조를 활용\n",
    "- deque = stack + queue의 장점을 모두 채택한 것\n",
    "    - 데이터를 넣고 빼는 속도가 리스트 자료형에 비해 효율적\n",
    "    - queue 라이브러리를 활용하는 것 보다 간단하다\n",
    "    * 코테에서 collections 모듈은 기본 라이브러리이므로 사용을 허가하고 있음\n",
    "    - deque 객체를 리스트로 바꾸고 싶다면 list() 메서드를 사용하자\n"
   ]
  },
  {
   "cell_type": "code",
   "execution_count": 9,
   "id": "1ebf4bac",
   "metadata": {},
   "outputs": [
    {
     "name": "stdout",
     "output_type": "stream",
     "text": [
      "deque([3, 2, 1, 9])\n",
      "deque([9, 1, 2, 3])\n"
     ]
    }
   ],
   "source": [
    "from collections import deque\n",
    "\n",
    "queue = deque() #디큐 라이브러리 사용\n",
    "\n",
    "queue.append(5)\n",
    "queue.append(4)\n",
    "queue.append(3)\n",
    "queue.append(2)\n",
    "queue.popleft()\n",
    "queue.append(1)\n",
    "queue.append(9)\n",
    "queue.popleft()\n",
    "\n",
    "print(queue) #들어온 순서대로 정렬\n",
    "queue.reverse() #역순으로 바꾸기\n",
    "print(queue)  #나중에 온 순서대로 정렬"
   ]
  },
  {
   "cell_type": "markdown",
   "id": "a5e749db",
   "metadata": {},
   "source": [
    "## 재귀함수 (Recursive Function)\n",
    "\n",
    "- 종료조건을 꼭 명시한다.\n",
    "- 컴퓨터 내부적으로는 재귀함수 수행은 스택 자료구조와 동일하다.\n"
   ]
  },
  {
   "cell_type": "code",
   "execution_count": 20,
   "id": "adfb854e",
   "metadata": {},
   "outputs": [],
   "source": [
    "def recursive_iter(n):\n",
    "    result = 1\n",
    "    for i in range(1,n+1):\n",
    "        result *= i\n",
    "    return result\n",
    "\n",
    "def factori(n):\n",
    "    if n <= 1 :\n",
    "        return 1\n",
    "    return n * factori(n-1)"
   ]
  },
  {
   "cell_type": "code",
   "execution_count": 23,
   "id": "106d6367",
   "metadata": {},
   "outputs": [
    {
     "name": "stdout",
     "output_type": "stream",
     "text": [
      "120\n",
      "120\n"
     ]
    }
   ],
   "source": [
    "print(factori(5))\n",
    "print(recursive_iter(5))"
   ]
  },
  {
   "cell_type": "markdown",
   "id": "19ee63eb",
   "metadata": {},
   "source": [
    "# 실전문제\n",
    "\n",
    "## 3. 음료수 얼려먹기\n",
    "구멍이 뚫린 부분은 0, 칸막이가 존재하는 부분은 1, 생성되는 총 아이스크림의 개수는?<br> <hr>\n",
    "\n",
    "**solution**\n",
    "- 특정 지점의 상하좌우를 보고 주변에 0 이고 아직 방문하지 않은 지점이 있다면 방문\n",
    "- 방문한 지점에서다시 상하좌우 확인 후 방문 진행\n",
    "- 1-2번 과정을 모든 노드에 반복하여 방문하지 않은 지점의 수를 카운트"
   ]
  },
  {
   "cell_type": "code",
   "execution_count": 7,
   "id": "908799ca",
   "metadata": {},
   "outputs": [
    {
     "name": "stdout",
     "output_type": "stream",
     "text": [
      "3 3\n",
      "001\n",
      "010\n",
      "101\n",
      "3\n"
     ]
    }
   ],
   "source": [
    "# n,m을 공백으로 구분하여 입력\n",
    "n,m = map(int,input().split())\n",
    "\n",
    "#2차원 리스트의 맵 정보 받기\n",
    "graph = []\n",
    "for i in range(n):\n",
    "    graph.append(list(map(int,input())))\n",
    "    \n",
    "#dfs 특정 노드 방문하고 뒤에 연결된 모든 노드 방문\n",
    "def dfs(x,y):\n",
    "    if x <= -1 or x>=n or y <= -1 or y >= m : #주어진 범위를 벗어나면 False\n",
    "        return False\n",
    "    if graph[x][y] == 0 : #노드 방문 전이라면 \n",
    "        graph[x][y] = 1   #해당 노드 방문처리\n",
    "        dfs(x-1, y)       #상 하 좌 우 재귀호출\n",
    "        dfs(x, y-1)\n",
    "        dfs(x+1, y)\n",
    "        dfs(x,y+1)\n",
    "        return True\n",
    "    return False\n",
    "\n",
    "#모든 노드에 대해 음료수 채우기\n",
    "result = 0\n",
    "for i in range(n):\n",
    "    for j in range(m):\n",
    "        if dfs(i,j) == True:\n",
    "            result += 1\n",
    "            \n",
    "print(result)"
   ]
  },
  {
   "cell_type": "markdown",
   "id": "4f5e067b",
   "metadata": {},
   "source": [
    "## 4. 미로 탈출\n",
    " NxM 직사각형 미로에 갇혀있다. 위치는 (1,1) 이고 괴물이 존재하는 위치는 0, 없으면 1이다. <br>\n",
    " 탈출하기 위한 최소 칸의 개수는 ? <br><hr>\n",
    " **idea**\n",
    " - BFS를 이요하면 효과적으로 해결할 수 있다\n",
    " - 1,1부터 시작해 모든 노드의 값을 거리 정보로 저장한다"
   ]
  },
  {
   "cell_type": "code",
   "execution_count": 17,
   "id": "a802015a",
   "metadata": {},
   "outputs": [
    {
     "name": "stdout",
     "output_type": "stream",
     "text": [
      "d\n"
     ]
    },
    {
     "ename": "ValueError",
     "evalue": "invalid literal for int() with base 10: 'd'",
     "output_type": "error",
     "traceback": [
      "\u001b[1;31m---------------------------------------------------------------------------\u001b[0m",
      "\u001b[1;31mValueError\u001b[0m                                Traceback (most recent call last)",
      "\u001b[1;32m~\\AppData\\Local\\Temp/ipykernel_23080/1401566827.py\u001b[0m in \u001b[0;36m<module>\u001b[1;34m\u001b[0m\n\u001b[0;32m      2\u001b[0m \u001b[1;33m\u001b[0m\u001b[0m\n\u001b[0;32m      3\u001b[0m \u001b[1;31m#N M 공백으로 입력\u001b[0m\u001b[1;33m\u001b[0m\u001b[1;33m\u001b[0m\u001b[0m\n\u001b[1;32m----> 4\u001b[1;33m \u001b[0mn\u001b[0m\u001b[1;33m,\u001b[0m\u001b[0mm\u001b[0m \u001b[1;33m=\u001b[0m \u001b[0mmap\u001b[0m\u001b[1;33m(\u001b[0m\u001b[0mint\u001b[0m\u001b[1;33m,\u001b[0m \u001b[0minput\u001b[0m\u001b[1;33m(\u001b[0m\u001b[1;33m)\u001b[0m\u001b[1;33m.\u001b[0m\u001b[0msplit\u001b[0m\u001b[1;33m(\u001b[0m\u001b[1;33m)\u001b[0m\u001b[1;33m)\u001b[0m\u001b[1;33m\u001b[0m\u001b[1;33m\u001b[0m\u001b[0m\n\u001b[0m\u001b[0;32m      5\u001b[0m \u001b[1;31m#2차원 리스트의 맵 정보 입력\u001b[0m\u001b[1;33m\u001b[0m\u001b[1;33m\u001b[0m\u001b[0m\n\u001b[0;32m      6\u001b[0m \u001b[0mgraph\u001b[0m \u001b[1;33m=\u001b[0m \u001b[1;33m[\u001b[0m\u001b[1;33m]\u001b[0m\u001b[1;33m\u001b[0m\u001b[1;33m\u001b[0m\u001b[0m\n",
      "\u001b[1;31mValueError\u001b[0m: invalid literal for int() with base 10: 'd'"
     ]
    }
   ],
   "source": [
    "from collections import deque\n",
    "\n",
    "#N M 공백으로 입력\n",
    "n,m = map(int, input().split())\n",
    "#2차원 리스트의 맵 정보 입력\n",
    "graph = []\n",
    "for i in range(n):\n",
    "    graph.append(list(map(int,input())))\n",
    "    \n",
    "#이동 방향 정의 (상하좌우)\n",
    "dx = [-1,1,0,0]\n",
    "dy = [0,0,-1,1]\n",
    "\n",
    "#BFS 구현\n",
    "def bfs(x,y):\n",
    "    queue=deque()      #큐 구현을 위해 deque라이브러리 사용\n",
    "    queue.append((x,y))\n",
    "\n",
    "    while queue:  # 큐가 빌 때까지 반복\n",
    "        x, y = queue.popleft()\n",
    "        for i in range(4): # 현 위치에서 4방향 모두 확인\n",
    "            nx = x + dx[i]\n",
    "            ny = y + dy[i]\n",
    "            \n",
    "            if nx < 0 or ny < 0 or nx >= n or ny >= m:  #공간을 벗어나면 무시\n",
    "                continue\n",
    "                \n",
    "            if graph[nx][ny] == 0:   #벽인 경우 무시\n",
    "                continue\n",
    "                \n",
    "            if graph[nx][ny] == 1:   #해당 노드를 처음 방문하는 경우에만 최단 거리 기록\n",
    "                graph[nx][ny] = graph[x][y] + 1\n",
    "                queue.append((nx,ny))\n",
    "        return graph[n-1][m-1]      #가장 오른쪽 아래까지 최단 거리 반환\n",
    "    \n",
    "print(bfs(0,0))\n",
    "            \n",
    "                 "
   ]
  },
  {
   "cell_type": "code",
   "execution_count": null,
   "id": "a6e10767",
   "metadata": {},
   "outputs": [],
   "source": []
  }
 ],
 "metadata": {
  "kernelspec": {
   "display_name": "Python 3 (ipykernel)",
   "language": "python",
   "name": "python3"
  },
  "language_info": {
   "codemirror_mode": {
    "name": "ipython",
    "version": 3
   },
   "file_extension": ".py",
   "mimetype": "text/x-python",
   "name": "python",
   "nbconvert_exporter": "python",
   "pygments_lexer": "ipython3",
   "version": "3.9.7"
  }
 },
 "nbformat": 4,
 "nbformat_minor": 5
}
