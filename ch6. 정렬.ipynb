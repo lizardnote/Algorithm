{
 "cells": [
  {
   "cell_type": "markdown",
   "id": "8a2f0065",
   "metadata": {},
   "source": [
    "# 6. 정렬 알고리즘\n",
    "### 선택정렬, 삽입정렬, 퀵정렬, 계수정렬\n",
    "\n",
    "- 이진탐색의 전처리 과정이기도 함\n",
    "- 꽤 단골문제로 나온다 <br><hr>\n",
    "\n",
    "**일반적으로 3가지 유형으로 나온다**\n",
    "1. 정렬 라이브러리로 풀 수 있는 문제\n",
    "2. 정렬 알고리즘 원리에 대해 물어보는 문제\n",
    "3. 더 빠른 정렬이 필요한 문제"
   ]
  },
  {
   "cell_type": "markdown",
   "id": "8703e761",
   "metadata": {},
   "source": [
    "### 1. 선택정렬 - $O(N^2)$\n",
    "\n",
    "선택한 숫자와 앞 숫자를 비교해서 정렬하는 방법"
   ]
  },
  {
   "cell_type": "code",
   "execution_count": 3,
   "id": "391d3d38",
   "metadata": {},
   "outputs": [
    {
     "name": "stdout",
     "output_type": "stream",
     "text": [
      "[0, 2, 3, 4, 5, 6, 7, 8, 9]\n"
     ]
    }
   ],
   "source": [
    "array = [7,5,9,0,3,6,2,4,8]\n",
    "\n",
    "for i in range(len(array)):\n",
    "    min_index = i\n",
    "    for j in range(i+1, len(array)):\n",
    "        if array[min_index] > array[j]:\n",
    "            min_index = j\n",
    "    array[i], array[min_index] = array[min_index],array[i] #swap 과정\n",
    "    \n",
    "print(array)\n",
    "        "
   ]
  },
  {
   "cell_type": "markdown",
   "id": "ec2efc1b",
   "metadata": {},
   "source": [
    "원래 변수 값을 변경할 때 임의 변수를 하나 만든 뒤 변경해야 되는데, 파이썬에서는 변수 생성 없이 가능함 "
   ]
  },
  {
   "cell_type": "code",
   "execution_count": 4,
   "id": "2f2d2a26",
   "metadata": {},
   "outputs": [
    {
     "name": "stdout",
     "output_type": "stream",
     "text": [
      "[5, 3]\n"
     ]
    }
   ],
   "source": [
    "#두 인덱스 값 변경\n",
    "array = [3,5]\n",
    "array[0],array[1] = array[1], array[0]\n",
    "print(array)"
   ]
  },
  {
   "cell_type": "markdown",
   "id": "93b56159",
   "metadata": {},
   "source": [
    "### 2. 삽입정렬 - $O(N^2)$\n",
    ": 특정 데이터를 적절한 위치에 삽입하는 정렬"
   ]
  },
  {
   "cell_type": "code",
   "execution_count": 7,
   "id": "b4b81d91",
   "metadata": {},
   "outputs": [
    {
     "name": "stdout",
     "output_type": "stream",
     "text": [
      "[9, 8, 7, 6, 5, 4, 3, 2, 1, 0]\n"
     ]
    }
   ],
   "source": [
    "array = [7,5,9,0,3,1,6,2,4,8]\n",
    "\n",
    "for i in range(1, len(array)):\n",
    "    for j in range(i, 0, -1):\n",
    "        if array[j] > array[j-1]: #한 칸씩 왼쪽으로 이동\n",
    "            array[j], array[j-1] = array[j-1], array[j]\n",
    "        else:  #자신보다 작은 데이터를 만나면 stop\n",
    "            break\n",
    "print(array)"
   ]
  },
  {
   "cell_type": "markdown",
   "id": "c19e6b20",
   "metadata": {},
   "source": [
    "### 3. 퀵 정렬 - $O(NlogN)$\n",
    "- 가장 많이 사용되는 정렬 알고리즘\n",
    "- 피벗이 사용 (= 교환하기 위한 '기준'을 명시)\n",
    "- 대표적인 분할 방식인 '호어분할'로 설명"
   ]
  },
  {
   "cell_type": "code",
   "execution_count": 8,
   "id": "9236517c",
   "metadata": {},
   "outputs": [
    {
     "name": "stdout",
     "output_type": "stream",
     "text": [
      "[0, 1, 2, 3, 4, 5, 6, 7, 8, 9]\n"
     ]
    }
   ],
   "source": [
    "array = [7,5,9,0,3,1,6,2,4,8]\n",
    "\n",
    "def quick_sort(array, start, end):\n",
    "    if start >= end:\n",
    "        return\n",
    "    pivot = start\n",
    "    left = start+1\n",
    "    right = end\n",
    "    \n",
    "    while left <= right:\n",
    "        while left <= end and array[left] <= array[pivot]:\n",
    "            left += 1\n",
    "        while right > start and array[right] >= array[pivot]:\n",
    "            right -= 1\n",
    "            \n",
    "        if left > right:  #엇갈렸다면 작은 데이터와 피벗 교체\n",
    "            array[right],array[pivot] = array[pivot], array[right]\n",
    "        else:             #아니면 작은 데이터와 큰 데이터 교체\n",
    "            array[left],array[right] = array[right], array[left]\n",
    "            \n",
    "    quick_sort(array, start, right-1)\n",
    "    quick_sort(array, right+1, end)\n",
    "    \n",
    "quick_sort(array, 0 , len(array)-1)\n",
    "print(array)"
   ]
  },
  {
   "cell_type": "code",
   "execution_count": 11,
   "id": "79b4a781",
   "metadata": {},
   "outputs": [
    {
     "name": "stdout",
     "output_type": "stream",
     "text": [
      "[0, 1, 2, 3, 4, 5, 6, 7, 8, 9]\n"
     ]
    }
   ],
   "source": [
    "def quick(array):\n",
    "    if len(array) <= 1 :\n",
    "        return array\n",
    "    \n",
    "    pivot = array[0]\n",
    "    tail = array[1:]\n",
    "    \n",
    "    left_side = [x for x in tail if x <= pivot]\n",
    "    right_side = [x for x in tail if x > pivot]\n",
    "    \n",
    "    return quick(left_side) + [pivot] + quick(right_side)\n",
    "\n",
    "print(quick(array))"
   ]
  },
  {
   "cell_type": "markdown",
   "id": "d9d1c392",
   "metadata": {},
   "source": [
    "### 계수 정렬 - $O(N + K)$\n",
    ": 특정 조건이 부합할 떄만 사용할 수 있지만 매우 빠른 알고리즘\n",
    "- 데이터 크기범위가 제한되어 정수 형태로 표현할 수 있을 때만 사용 가능하다."
   ]
  },
  {
   "cell_type": "code",
   "execution_count": 12,
   "id": "94a565a6",
   "metadata": {},
   "outputs": [
    {
     "name": "stdout",
     "output_type": "stream",
     "text": [
      "001122345567899"
     ]
    }
   ],
   "source": [
    "array = [ 7, 5, 9, 0, 3, 1, 6, 2, 9, 1, 4, 8, 0, 5, 2]\n",
    "count = [0] * (max(array)+1)\n",
    "\n",
    "for i in range(len(array)):\n",
    "    count[array[i]] += 1\n",
    "    \n",
    "for i in range(len(count)):\n",
    "    for j in range(count[i]):\n",
    "        print(i, end='')"
   ]
  },
  {
   "cell_type": "markdown",
   "id": "e5fe3f7c",
   "metadata": {},
   "source": [
    "### * python에서 기본적으로 제공하는 정렬 알고리즘\n",
    "1. sorted(array)\n",
    "2. array.sort() -> 내부 원소가 바로 정렬된다."
   ]
  },
  {
   "cell_type": "markdown",
   "id": "809e1521",
   "metadata": {},
   "source": [
    "## 실전문제\n",
    "### 2. 위에서 아래로\n",
    "하나의 수열에 다양한 수가 있는데, 큰 수부터 작은 수 순으로 정렬\n"
   ]
  },
  {
   "cell_type": "code",
   "execution_count": 13,
   "id": "c793e604",
   "metadata": {},
   "outputs": [
    {
     "name": "stdout",
     "output_type": "stream",
     "text": [
      "3\n",
      "15\n",
      "27\n",
      "12\n",
      "271512"
     ]
    }
   ],
   "source": [
    "n = int(input())\n",
    "\n",
    "array = []\n",
    "for i in range(n):\n",
    "    array.append(int(input()))\n",
    "    \n",
    "array = sorted(array, reverse=True)\n",
    "\n",
    "for i in array:\n",
    "    print(i, end='')"
   ]
  },
  {
   "cell_type": "markdown",
   "id": "29ff3dbd",
   "metadata": {},
   "source": [
    "### 3. 성적 낮은 순서로 학생 출력\n",
    "각 학생의 성적과 이름이 주어졌을 때 성적이 낮은 순서대로 학생 이름을 출력\n"
   ]
  },
  {
   "cell_type": "code",
   "execution_count": 16,
   "id": "2a514a5b",
   "metadata": {},
   "outputs": [
    {
     "name": "stdout",
     "output_type": "stream",
     "text": [
      "3\n",
      "홍길동 99\n",
      "이순신 100\n",
      "김효재 191\n",
      "홍길동이순신김효재"
     ]
    }
   ],
   "source": [
    "n = int(input())\n",
    "\n",
    "array =[]\n",
    "for i in range(n):\n",
    "    input_data = input().split()\n",
    "    array.append((input_data[0], int(input_data[1]))) #이름은 그대로, 점수는 정수형으로 변환하여 리스트에 저장\n",
    "    \n",
    "array = sorted(array, key=lambda student : student[1])\n",
    "for student in array:\n",
    "    print(student[0], end='')"
   ]
  },
  {
   "cell_type": "markdown",
   "id": "7e919040",
   "metadata": {},
   "source": [
    "### 4. 두 배열의 원소 교체\n",
    "a, b 배열이 주어지면 K번 바꿔치기 연산을 수행하여 a의 모든 원소의 합이 최대가 되도록 출력\n",
    "\n"
   ]
  },
  {
   "cell_type": "code",
   "execution_count": 18,
   "id": "0e38ce42",
   "metadata": {},
   "outputs": [
    {
     "name": "stdout",
     "output_type": "stream",
     "text": [
      "5 3\n",
      "1 2 5 4 3\n",
      "5 5 6 6 5\n",
      "26\n"
     ]
    }
   ],
   "source": [
    "n, k = map(int, input().split())\n",
    "a = list(map(int, input().split()))\n",
    "b = list(map(int, input().split()))\n",
    "\n",
    "a.sort()\n",
    "b.sort(reverse=True)\n",
    "\n",
    "for i in range(k):\n",
    "    if a[i] < b[i]:\n",
    "        a[i],b[i] = b[i], a[i]\n",
    "    else:\n",
    "        break\n",
    "print(sum(a))"
   ]
  }
 ],
 "metadata": {
  "kernelspec": {
   "display_name": "Python 3 (ipykernel)",
   "language": "python",
   "name": "python3"
  },
  "language_info": {
   "codemirror_mode": {
    "name": "ipython",
    "version": 3
   },
   "file_extension": ".py",
   "mimetype": "text/x-python",
   "name": "python",
   "nbconvert_exporter": "python",
   "pygments_lexer": "ipython3",
   "version": "3.9.7"
  }
 },
 "nbformat": 4,
 "nbformat_minor": 5
}
