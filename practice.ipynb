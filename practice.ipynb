{
 "cells": [
  {
   "attachments": {},
   "cell_type": "markdown",
   "id": "040166af",
   "metadata": {},
   "source": [
    "# 백준 \n",
    "### 2444번"
   ]
  },
  {
   "cell_type": "code",
   "execution_count": 16,
   "id": "b0e0acd6",
   "metadata": {},
   "outputs": [
    {
     "name": "stdout",
     "output_type": "stream",
     "text": [
      "     \n",
      "    *\n",
      "   ***\n",
      "  *****\n",
      " *******\n",
      "  *****\n",
      "   ***\n",
      "    *\n"
     ]
    }
   ],
   "source": [
    "a = int(input())\n",
    "\n",
    "for i in range(a+1):\n",
    "    num = a - (i)\n",
    "    print(' ' * num, end= ' ')\n",
    "    print('*' * (i*2-1))\n",
    "\n",
    "for i in range(a-1,0,-1):\n",
    "    num = a - (i)\n",
    "    print(' ' * num, end= ' ')\n",
    "    print('*' * (i*2-1))\n"
   ]
  },
  {
   "cell_type": "code",
   "execution_count": 17,
   "id": "4f3b013d",
   "metadata": {},
   "outputs": [
    {
     "name": "stdout",
     "output_type": "stream",
     "text": [
      "     \n",
      "    *\n",
      "   ***\n",
      "  *****\n",
      " *******\n",
      "*********\n",
      " *******\n",
      "  *****\n",
      "   ***\n",
      "    *\n"
     ]
    }
   ],
   "source": [
    "a = int(input())\n",
    "\n",
    "for i in range(a+1):\n",
    "    num = a - (i)\n",
    "    print(' ' * num + '*' * (i*2-1))\n",
    "\n",
    "for i in range(a-1,0,-1):\n",
    "    num = a - (i)\n",
    "    print(' ' * num + '*' * (i*2-1))"
   ]
  },
  {
   "attachments": {},
   "cell_type": "markdown",
   "id": "1424ff87",
   "metadata": {},
   "source": [
    "#### 정답"
   ]
  },
  {
   "cell_type": "code",
   "execution_count": 20,
   "id": "febc7f5a",
   "metadata": {},
   "outputs": [
    {
     "name": "stdout",
     "output_type": "stream",
     "text": [
      "    *\n",
      "   ***\n",
      "  *****\n",
      " *******\n",
      "*********\n",
      " *******\n",
      "  *****\n",
      "   ***\n",
      "    *\n"
     ]
    }
   ],
   "source": [
    "a = int(input())\n",
    "\n",
    "for i in range(1, a+1): #1,2,3,4,5\n",
    "    print(' ' * (a-i) + '*' * (i*2-1))\n",
    "\n",
    "for i in range(a-1,0,-1): # 4 3 2 1\n",
    "    print(' ' * (a-i) + '*' * (i*2-1))\n",
    "\n",
    "\n",
    "a = int(input())\n",
    "\n",
    "for i in range(0, a): #0,1,2,3,4\n",
    "    print(' ' * (a-i) + '*' * (i*2-1))\n",
    "\n",
    "for i in range(a,0,-1): # 5,4,3,2,1\n",
    "    print(' ' * (a-i) + '*' * (i*2-1))"
   ]
  },
  {
   "attachments": {},
   "cell_type": "markdown",
   "id": "d62eb8e9",
   "metadata": {},
   "source": [
    "### 10810번"
   ]
  },
  {
   "cell_type": "code",
   "execution_count": 13,
   "id": "10bf9a16",
   "metadata": {},
   "outputs": [],
   "source": [
    "import sys\n",
    "\n",
    "n,m = map(int,sys.stdin.readline().split())\n",
    "data = [0]*n\n",
    "\n",
    "for i in range(m):\n",
    "    a,b,c = map(int, sys.stdin.readline().split())\n",
    "    for j in range(a,b+1):\n",
    "        data[j-1] = c\n",
    "\n",
    "print(data)\n"
   ]
  },
  {
   "attachments": {},
   "cell_type": "markdown",
   "id": "bea39162",
   "metadata": {},
   "source": [
    "### 10813번"
   ]
  },
  {
   "cell_type": "code",
   "execution_count": 1,
   "id": "3eca7c21",
   "metadata": {},
   "outputs": [],
   "source": [
    "n,m = map(int,input())\n",
    "data = [0]*n\n",
    "for i in range(m):\n",
    "    a,b = map(int,input())\n",
    "    data[a] = b\n",
    "    data[b] = a\n",
    "\n",
    "print(*data)"
   ]
  },
  {
   "cell_type": "code",
   "execution_count": 17,
   "id": "a03e036e",
   "metadata": {},
   "outputs": [],
   "source": [
    "n = 5\n",
    "data = [x for x in range(1,(n+1))]"
   ]
  },
  {
   "cell_type": "code",
   "execution_count": 18,
   "id": "72bde843",
   "metadata": {},
   "outputs": [
    {
     "data": {
      "text/plain": [
       "[1, 2, 3, 4, 5]"
      ]
     },
     "execution_count": 18,
     "metadata": {},
     "output_type": "execute_result"
    }
   ],
   "source": [
    "data"
   ]
  },
  {
   "cell_type": "code",
   "execution_count": 19,
   "id": "ebe63eac",
   "metadata": {},
   "outputs": [
    {
     "name": "stdout",
     "output_type": "stream",
     "text": [
      "[2, 1, 3, 4, 5]\n",
      "[2, 1, 4, 3, 5]\n",
      "[3, 1, 4, 2, 5]\n",
      "[3, 1, 4, 2, 5]\n"
     ]
    }
   ],
   "source": [
    "for i in range(4):\n",
    "    a,b = map(int, input().split())\n",
    "    c = data[(b-1)] \n",
    "    data[(b-1)] = data[(a-1)]\n",
    "    data[(a-1)] =  c\n",
    "    print(data)\n"
   ]
  },
  {
   "cell_type": "code",
   "execution_count": 15,
   "id": "0faf2d9f",
   "metadata": {},
   "outputs": [
    {
     "data": {
      "text/plain": [
       "[3, 1, 4, 2, 5]"
      ]
     },
     "execution_count": 15,
     "metadata": {},
     "output_type": "execute_result"
    }
   ],
   "source": [
    "data"
   ]
  },
  {
   "attachments": {},
   "cell_type": "markdown",
   "id": "a49d11d0",
   "metadata": {},
   "source": [
    "### 10811번"
   ]
  },
  {
   "cell_type": "code",
   "execution_count": 49,
   "id": "cf204429",
   "metadata": {},
   "outputs": [
    {
     "data": {
      "text/plain": [
       "[1, 2, 3, 4, 5]"
      ]
     },
     "execution_count": 49,
     "metadata": {},
     "output_type": "execute_result"
    }
   ],
   "source": [
    "\n",
    "copy = data\n",
    "copy"
   ]
  },
  {
   "cell_type": "code",
   "execution_count": null,
   "id": "e4dc727a",
   "metadata": {},
   "outputs": [],
   "source": [
    "n,m = map(int,input().split())\n",
    "data = [ x+1 for x in range(n) ]\n",
    "\n",
    "for i in range(m) :\n",
    "    a,b = map(int, input().split())\n",
    "    value = []\n",
    "    for k in range(a,b+1):\n",
    "        value.append(k)\n",
    "    value = value[::-1]\n",
    "    number = 0\n",
    "\n",
    "    for k in range(a,b+1):\n",
    "        data[k] = value[number]\n",
    "        number += 1\n",
    "    \n",
    "print(*data)\n",
    "    \n"
   ]
  },
  {
   "cell_type": "code",
   "execution_count": 44,
   "id": "e5b010c1",
   "metadata": {},
   "outputs": [
    {
     "data": {
      "text/plain": [
       "[4, 4, 4, 4, 5]"
      ]
     },
     "execution_count": 44,
     "metadata": {},
     "output_type": "execute_result"
    }
   ],
   "source": [
    "n, m = map(int, input().split())\n",
    "\n",
    "data = [i for i in range(n + 1)]\n",
    "\n",
    "for _ in range(m) :\n",
    "  i, j = map(int, input().split())\n",
    "  value = []\n",
    "  for k in range(i, j + 1) :\n",
    "    value.append(data[k])\n",
    "  \n",
    "  value = value[::-1]\n",
    "  number = 0\n",
    "  for k in range(i, j + 1) :\n",
    "    data[k] = value[number]\n",
    "    number += 1\n",
    "\n",
    "print(*data)"
   ]
  },
  {
   "cell_type": "code",
   "execution_count": 33,
   "id": "fdacbf81",
   "metadata": {},
   "outputs": [
    {
     "name": "stdout",
     "output_type": "stream",
     "text": [
      "[2, 2, 3, 4, 5]\n"
     ]
    }
   ],
   "source": [
    "a, b = 1, 2\n",
    "idx = a-1\n",
    "\n",
    "for j in range(b, (a-1), -1):  #j= 4321\n",
    "    data[(idx)] = data[(j-1)] #data[0] = data[3]\n",
    "    idx += 1\n",
    "print(data)"
   ]
  },
  {
   "cell_type": "code",
   "execution_count": 21,
   "id": "723e405a",
   "metadata": {},
   "outputs": [],
   "source": [
    "for j in range(1,3,-1):  #j= 4321\n",
    "    print(idx, j)\n",
    "    data[idx] = data[(j-1)] #data[0] = data[3]\n",
    "    idx += 1"
   ]
  }
 ],
 "metadata": {
  "kernelspec": {
   "display_name": "Python 3",
   "language": "python",
   "name": "python3"
  },
  "language_info": {
   "codemirror_mode": {
    "name": "ipython",
    "version": 3
   },
   "file_extension": ".py",
   "mimetype": "text/x-python",
   "name": "python",
   "nbconvert_exporter": "python",
   "pygments_lexer": "ipython3",
   "version": "3.10.6 (tags/v3.10.6:9c7b4bd, Aug  1 2022, 21:53:49) [MSC v.1932 64 bit (AMD64)]"
  },
  "vscode": {
   "interpreter": {
    "hash": "513b084fbc85d0805816cfbd4092cc59ad95f2adc9d8a36016e84bd053b5d48a"
   }
  }
 },
 "nbformat": 4,
 "nbformat_minor": 5
}
